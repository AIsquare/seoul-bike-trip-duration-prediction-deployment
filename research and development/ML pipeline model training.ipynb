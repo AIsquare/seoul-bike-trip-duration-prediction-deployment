{
 "cells": [
  {
   "cell_type": "code",
   "execution_count": 1,
   "metadata": {},
   "outputs": [],
   "source": [
    "# to handle datasets\n",
    "import pandas as pd\n",
    "import numpy as np\n",
    "\n",
    "# for plotting\n",
    "import matplotlib.pyplot as plt\n",
    "\n",
    "# to save the model\n",
    "import joblib\n",
    "\n",
    "# to build the model\n",
    "from sklearn.linear_model import Lasso\n",
    "\n",
    "# to evaluate the model\n",
    "from sklearn.metrics import mean_squared_error, r2_score\n",
    "\n",
    "# to visualise al the columns in the dataframe\n",
    "pd.pandas.set_option('display.max_columns', None)"
   ]
  },
  {
   "cell_type": "code",
   "execution_count": 2,
   "metadata": {},
   "outputs": [
    {
     "data": {
      "text/html": [
       "<div>\n",
       "<style scoped>\n",
       "    .dataframe tbody tr th:only-of-type {\n",
       "        vertical-align: middle;\n",
       "    }\n",
       "\n",
       "    .dataframe tbody tr th {\n",
       "        vertical-align: top;\n",
       "    }\n",
       "\n",
       "    .dataframe thead th {\n",
       "        text-align: right;\n",
       "    }\n",
       "</style>\n",
       "<table border=\"1\" class=\"dataframe\">\n",
       "  <thead>\n",
       "    <tr style=\"text-align: right;\">\n",
       "      <th></th>\n",
       "      <th>Distance</th>\n",
       "      <th>PLong</th>\n",
       "      <th>PLatd</th>\n",
       "      <th>DLong</th>\n",
       "      <th>DLatd</th>\n",
       "      <th>Haversine</th>\n",
       "      <th>Pmonth</th>\n",
       "      <th>Pday</th>\n",
       "      <th>Phour</th>\n",
       "      <th>Pmin</th>\n",
       "      <th>PDweek</th>\n",
       "      <th>Dmonth</th>\n",
       "      <th>Dday</th>\n",
       "      <th>Dhour</th>\n",
       "      <th>Dmin</th>\n",
       "      <th>DDweek</th>\n",
       "      <th>Temp</th>\n",
       "      <th>Precip</th>\n",
       "      <th>Wind</th>\n",
       "      <th>Humid</th>\n",
       "      <th>Solar</th>\n",
       "      <th>Snow</th>\n",
       "      <th>GroundTemp</th>\n",
       "      <th>Dust</th>\n",
       "    </tr>\n",
       "  </thead>\n",
       "  <tbody>\n",
       "    <tr>\n",
       "      <th>0</th>\n",
       "      <td>0.123735</td>\n",
       "      <td>0.439752</td>\n",
       "      <td>0.690362</td>\n",
       "      <td>0.564855</td>\n",
       "      <td>0.743494</td>\n",
       "      <td>0.137613</td>\n",
       "      <td>0.909091</td>\n",
       "      <td>0.633333</td>\n",
       "      <td>0.782609</td>\n",
       "      <td>0.135593</td>\n",
       "      <td>0.166667</td>\n",
       "      <td>0.909091</td>\n",
       "      <td>0.633333</td>\n",
       "      <td>0.782609</td>\n",
       "      <td>0.440678</td>\n",
       "      <td>0.166667</td>\n",
       "      <td>0.470280</td>\n",
       "      <td>0.0</td>\n",
       "      <td>0.270270</td>\n",
       "      <td>0.238636</td>\n",
       "      <td>0.000000</td>\n",
       "      <td>0.0</td>\n",
       "      <td>0.257256</td>\n",
       "      <td>0.151316</td>\n",
       "    </tr>\n",
       "    <tr>\n",
       "      <th>1</th>\n",
       "      <td>0.270630</td>\n",
       "      <td>0.536782</td>\n",
       "      <td>0.072524</td>\n",
       "      <td>0.390582</td>\n",
       "      <td>0.245192</td>\n",
       "      <td>0.248401</td>\n",
       "      <td>0.181818</td>\n",
       "      <td>0.500000</td>\n",
       "      <td>0.043478</td>\n",
       "      <td>0.322034</td>\n",
       "      <td>0.666667</td>\n",
       "      <td>0.181818</td>\n",
       "      <td>0.500000</td>\n",
       "      <td>0.086957</td>\n",
       "      <td>0.186441</td>\n",
       "      <td>0.666667</td>\n",
       "      <td>0.437063</td>\n",
       "      <td>0.0</td>\n",
       "      <td>0.283784</td>\n",
       "      <td>0.829545</td>\n",
       "      <td>0.000000</td>\n",
       "      <td>0.0</td>\n",
       "      <td>0.282322</td>\n",
       "      <td>0.046053</td>\n",
       "    </tr>\n",
       "    <tr>\n",
       "      <th>2</th>\n",
       "      <td>0.041725</td>\n",
       "      <td>0.513858</td>\n",
       "      <td>0.536762</td>\n",
       "      <td>0.509323</td>\n",
       "      <td>0.570664</td>\n",
       "      <td>0.040074</td>\n",
       "      <td>0.727273</td>\n",
       "      <td>0.933333</td>\n",
       "      <td>0.565217</td>\n",
       "      <td>0.830508</td>\n",
       "      <td>0.833333</td>\n",
       "      <td>0.727273</td>\n",
       "      <td>0.933333</td>\n",
       "      <td>0.608696</td>\n",
       "      <td>0.016949</td>\n",
       "      <td>0.833333</td>\n",
       "      <td>0.746503</td>\n",
       "      <td>0.0</td>\n",
       "      <td>0.189189</td>\n",
       "      <td>0.340909</td>\n",
       "      <td>0.781250</td>\n",
       "      <td>0.0</td>\n",
       "      <td>0.693931</td>\n",
       "      <td>0.046053</td>\n",
       "    </tr>\n",
       "    <tr>\n",
       "      <th>3</th>\n",
       "      <td>0.072366</td>\n",
       "      <td>0.544863</td>\n",
       "      <td>0.312979</td>\n",
       "      <td>0.476247</td>\n",
       "      <td>0.328050</td>\n",
       "      <td>0.069557</td>\n",
       "      <td>0.818182</td>\n",
       "      <td>0.400000</td>\n",
       "      <td>1.000000</td>\n",
       "      <td>0.372881</td>\n",
       "      <td>0.833333</td>\n",
       "      <td>0.818182</td>\n",
       "      <td>0.400000</td>\n",
       "      <td>1.000000</td>\n",
       "      <td>0.559322</td>\n",
       "      <td>0.833333</td>\n",
       "      <td>0.503497</td>\n",
       "      <td>0.0</td>\n",
       "      <td>0.040541</td>\n",
       "      <td>0.590909</td>\n",
       "      <td>0.000000</td>\n",
       "      <td>0.0</td>\n",
       "      <td>0.283641</td>\n",
       "      <td>0.059211</td>\n",
       "    </tr>\n",
       "    <tr>\n",
       "      <th>4</th>\n",
       "      <td>0.042026</td>\n",
       "      <td>0.138733</td>\n",
       "      <td>0.353218</td>\n",
       "      <td>0.163031</td>\n",
       "      <td>0.349159</td>\n",
       "      <td>0.024294</td>\n",
       "      <td>0.818182</td>\n",
       "      <td>1.000000</td>\n",
       "      <td>0.347826</td>\n",
       "      <td>0.915254</td>\n",
       "      <td>0.333333</td>\n",
       "      <td>0.818182</td>\n",
       "      <td>1.000000</td>\n",
       "      <td>0.391304</td>\n",
       "      <td>0.000000</td>\n",
       "      <td>0.333333</td>\n",
       "      <td>0.375874</td>\n",
       "      <td>0.0</td>\n",
       "      <td>0.243243</td>\n",
       "      <td>0.647727</td>\n",
       "      <td>0.042614</td>\n",
       "      <td>0.0</td>\n",
       "      <td>0.208443</td>\n",
       "      <td>0.049342</td>\n",
       "    </tr>\n",
       "  </tbody>\n",
       "</table>\n",
       "</div>"
      ],
      "text/plain": [
       "   Distance     PLong     PLatd     DLong     DLatd  Haversine    Pmonth  \\\n",
       "0  0.123735  0.439752  0.690362  0.564855  0.743494   0.137613  0.909091   \n",
       "1  0.270630  0.536782  0.072524  0.390582  0.245192   0.248401  0.181818   \n",
       "2  0.041725  0.513858  0.536762  0.509323  0.570664   0.040074  0.727273   \n",
       "3  0.072366  0.544863  0.312979  0.476247  0.328050   0.069557  0.818182   \n",
       "4  0.042026  0.138733  0.353218  0.163031  0.349159   0.024294  0.818182   \n",
       "\n",
       "       Pday     Phour      Pmin    PDweek    Dmonth      Dday     Dhour  \\\n",
       "0  0.633333  0.782609  0.135593  0.166667  0.909091  0.633333  0.782609   \n",
       "1  0.500000  0.043478  0.322034  0.666667  0.181818  0.500000  0.086957   \n",
       "2  0.933333  0.565217  0.830508  0.833333  0.727273  0.933333  0.608696   \n",
       "3  0.400000  1.000000  0.372881  0.833333  0.818182  0.400000  1.000000   \n",
       "4  1.000000  0.347826  0.915254  0.333333  0.818182  1.000000  0.391304   \n",
       "\n",
       "       Dmin    DDweek      Temp  Precip      Wind     Humid     Solar  Snow  \\\n",
       "0  0.440678  0.166667  0.470280     0.0  0.270270  0.238636  0.000000   0.0   \n",
       "1  0.186441  0.666667  0.437063     0.0  0.283784  0.829545  0.000000   0.0   \n",
       "2  0.016949  0.833333  0.746503     0.0  0.189189  0.340909  0.781250   0.0   \n",
       "3  0.559322  0.833333  0.503497     0.0  0.040541  0.590909  0.000000   0.0   \n",
       "4  0.000000  0.333333  0.375874     0.0  0.243243  0.647727  0.042614   0.0   \n",
       "\n",
       "   GroundTemp      Dust  \n",
       "0    0.257256  0.151316  \n",
       "1    0.282322  0.046053  \n",
       "2    0.693931  0.046053  \n",
       "3    0.283641  0.059211  \n",
       "4    0.208443  0.049342  "
      ]
     },
     "execution_count": 2,
     "metadata": {},
     "output_type": "execute_result"
    }
   ],
   "source": [
    "# load the train and test set with the engineered variables\n",
    "\n",
    "# we built and saved these datasets in a previous notebook.\n",
    "# If you haven't done so, go ahead and check the previous notebooks (step 2)\n",
    "# to find out how to create these datasets\n",
    "\n",
    "X_train = pd.read_csv('xtrain.csv')\n",
    "X_test = pd.read_csv('xtest.csv')\n",
    "\n",
    "X_train.head()"
   ]
  },
  {
   "cell_type": "code",
   "execution_count": 3,
   "metadata": {},
   "outputs": [
    {
     "data": {
      "text/html": [
       "<div>\n",
       "<style scoped>\n",
       "    .dataframe tbody tr th:only-of-type {\n",
       "        vertical-align: middle;\n",
       "    }\n",
       "\n",
       "    .dataframe tbody tr th {\n",
       "        vertical-align: top;\n",
       "    }\n",
       "\n",
       "    .dataframe thead th {\n",
       "        text-align: right;\n",
       "    }\n",
       "</style>\n",
       "<table border=\"1\" class=\"dataframe\">\n",
       "  <thead>\n",
       "    <tr style=\"text-align: right;\">\n",
       "      <th></th>\n",
       "      <th>Duration</th>\n",
       "    </tr>\n",
       "  </thead>\n",
       "  <tbody>\n",
       "    <tr>\n",
       "      <th>0</th>\n",
       "      <td>2.833213</td>\n",
       "    </tr>\n",
       "    <tr>\n",
       "      <th>1</th>\n",
       "      <td>3.931826</td>\n",
       "    </tr>\n",
       "    <tr>\n",
       "      <th>2</th>\n",
       "      <td>2.484907</td>\n",
       "    </tr>\n",
       "    <tr>\n",
       "      <th>3</th>\n",
       "      <td>2.302585</td>\n",
       "    </tr>\n",
       "    <tr>\n",
       "      <th>4</th>\n",
       "      <td>1.609438</td>\n",
       "    </tr>\n",
       "  </tbody>\n",
       "</table>\n",
       "</div>"
      ],
      "text/plain": [
       "   Duration\n",
       "0  2.833213\n",
       "1  3.931826\n",
       "2  2.484907\n",
       "3  2.302585\n",
       "4  1.609438"
      ]
     },
     "execution_count": 3,
     "metadata": {},
     "output_type": "execute_result"
    }
   ],
   "source": [
    "# load the target (remember that the target is log transformed)\n",
    "y_train = pd.read_csv('ytrain.csv')\n",
    "y_test = pd.read_csv('ytest.csv')\n",
    "\n",
    "y_train.head()"
   ]
  },
  {
   "cell_type": "code",
   "execution_count": 9,
   "metadata": {},
   "outputs": [
    {
     "data": {
      "text/html": [
       "<div>\n",
       "<style scoped>\n",
       "    .dataframe tbody tr th:only-of-type {\n",
       "        vertical-align: middle;\n",
       "    }\n",
       "\n",
       "    .dataframe tbody tr th {\n",
       "        vertical-align: top;\n",
       "    }\n",
       "\n",
       "    .dataframe thead th {\n",
       "        text-align: right;\n",
       "    }\n",
       "</style>\n",
       "<table border=\"1\" class=\"dataframe\">\n",
       "  <thead>\n",
       "    <tr style=\"text-align: right;\">\n",
       "      <th></th>\n",
       "      <th>Distance</th>\n",
       "      <th>PLatd</th>\n",
       "      <th>Haversine</th>\n",
       "      <th>Pmonth</th>\n",
       "      <th>Pday</th>\n",
       "      <th>Phour</th>\n",
       "      <th>Pmin</th>\n",
       "      <th>PDweek</th>\n",
       "      <th>Dday</th>\n",
       "      <th>Dhour</th>\n",
       "      <th>Dmin</th>\n",
       "      <th>DDweek</th>\n",
       "      <th>Temp</th>\n",
       "      <th>Wind</th>\n",
       "      <th>Humid</th>\n",
       "      <th>Solar</th>\n",
       "    </tr>\n",
       "  </thead>\n",
       "  <tbody>\n",
       "  </tbody>\n",
       "</table>\n",
       "</div>"
      ],
      "text/plain": [
       "Empty DataFrame\n",
       "Columns: [Distance, PLatd, Haversine, Pmonth, Pday, Phour, Pmin, PDweek, Dday, Dhour, Dmin, DDweek, Temp, Wind, Humid, Solar]\n",
       "Index: []"
      ]
     },
     "execution_count": 9,
     "metadata": {},
     "output_type": "execute_result"
    }
   ],
   "source": [
    "features = pd.read_csv('selected_features.csv')\n",
    "\n",
    "# display final feature set\n",
    "features"
   ]
  },
  {
   "cell_type": "code",
   "execution_count": 23,
   "metadata": {},
   "outputs": [],
   "source": [
    "# reduce the train and test set to the selected features\n",
    "\n",
    "X_train = X_train[[i for i in features]]\n",
    "X_test = X_test[[i for i in features]]"
   ]
  },
  {
   "cell_type": "code",
   "execution_count": 22,
   "metadata": {},
   "outputs": [
    {
     "data": {
      "text/plain": [
       "((864101, 16), (96012, 16))"
      ]
     },
     "execution_count": 22,
     "metadata": {},
     "output_type": "execute_result"
    }
   ],
   "source": [
    "# reduce the train and test set to the selected features\n",
    "\n",
    "X_train.shape,X_test.shape"
   ]
  },
  {
   "cell_type": "code",
   "execution_count": 24,
   "metadata": {},
   "outputs": [
    {
     "data": {
      "text/html": [
       "<div>\n",
       "<style scoped>\n",
       "    .dataframe tbody tr th:only-of-type {\n",
       "        vertical-align: middle;\n",
       "    }\n",
       "\n",
       "    .dataframe tbody tr th {\n",
       "        vertical-align: top;\n",
       "    }\n",
       "\n",
       "    .dataframe thead th {\n",
       "        text-align: right;\n",
       "    }\n",
       "</style>\n",
       "<table border=\"1\" class=\"dataframe\">\n",
       "  <thead>\n",
       "    <tr style=\"text-align: right;\">\n",
       "      <th></th>\n",
       "      <th>Distance</th>\n",
       "      <th>PLatd</th>\n",
       "      <th>Haversine</th>\n",
       "      <th>Pmonth</th>\n",
       "      <th>Pday</th>\n",
       "      <th>Phour</th>\n",
       "      <th>Pmin</th>\n",
       "      <th>PDweek</th>\n",
       "      <th>Dday</th>\n",
       "      <th>Dhour</th>\n",
       "      <th>Dmin</th>\n",
       "      <th>DDweek</th>\n",
       "      <th>Temp</th>\n",
       "      <th>Wind</th>\n",
       "      <th>Humid</th>\n",
       "      <th>Solar</th>\n",
       "    </tr>\n",
       "  </thead>\n",
       "  <tbody>\n",
       "    <tr>\n",
       "      <th>0</th>\n",
       "      <td>0.123735</td>\n",
       "      <td>0.690362</td>\n",
       "      <td>0.137613</td>\n",
       "      <td>0.909091</td>\n",
       "      <td>0.633333</td>\n",
       "      <td>0.782609</td>\n",
       "      <td>0.135593</td>\n",
       "      <td>0.166667</td>\n",
       "      <td>0.633333</td>\n",
       "      <td>0.782609</td>\n",
       "      <td>0.440678</td>\n",
       "      <td>0.166667</td>\n",
       "      <td>0.470280</td>\n",
       "      <td>0.270270</td>\n",
       "      <td>0.238636</td>\n",
       "      <td>0.000000</td>\n",
       "    </tr>\n",
       "    <tr>\n",
       "      <th>1</th>\n",
       "      <td>0.270630</td>\n",
       "      <td>0.072524</td>\n",
       "      <td>0.248401</td>\n",
       "      <td>0.181818</td>\n",
       "      <td>0.500000</td>\n",
       "      <td>0.043478</td>\n",
       "      <td>0.322034</td>\n",
       "      <td>0.666667</td>\n",
       "      <td>0.500000</td>\n",
       "      <td>0.086957</td>\n",
       "      <td>0.186441</td>\n",
       "      <td>0.666667</td>\n",
       "      <td>0.437063</td>\n",
       "      <td>0.283784</td>\n",
       "      <td>0.829545</td>\n",
       "      <td>0.000000</td>\n",
       "    </tr>\n",
       "    <tr>\n",
       "      <th>2</th>\n",
       "      <td>0.041725</td>\n",
       "      <td>0.536762</td>\n",
       "      <td>0.040074</td>\n",
       "      <td>0.727273</td>\n",
       "      <td>0.933333</td>\n",
       "      <td>0.565217</td>\n",
       "      <td>0.830508</td>\n",
       "      <td>0.833333</td>\n",
       "      <td>0.933333</td>\n",
       "      <td>0.608696</td>\n",
       "      <td>0.016949</td>\n",
       "      <td>0.833333</td>\n",
       "      <td>0.746503</td>\n",
       "      <td>0.189189</td>\n",
       "      <td>0.340909</td>\n",
       "      <td>0.781250</td>\n",
       "    </tr>\n",
       "    <tr>\n",
       "      <th>3</th>\n",
       "      <td>0.072366</td>\n",
       "      <td>0.312979</td>\n",
       "      <td>0.069557</td>\n",
       "      <td>0.818182</td>\n",
       "      <td>0.400000</td>\n",
       "      <td>1.000000</td>\n",
       "      <td>0.372881</td>\n",
       "      <td>0.833333</td>\n",
       "      <td>0.400000</td>\n",
       "      <td>1.000000</td>\n",
       "      <td>0.559322</td>\n",
       "      <td>0.833333</td>\n",
       "      <td>0.503497</td>\n",
       "      <td>0.040541</td>\n",
       "      <td>0.590909</td>\n",
       "      <td>0.000000</td>\n",
       "    </tr>\n",
       "    <tr>\n",
       "      <th>4</th>\n",
       "      <td>0.042026</td>\n",
       "      <td>0.353218</td>\n",
       "      <td>0.024294</td>\n",
       "      <td>0.818182</td>\n",
       "      <td>1.000000</td>\n",
       "      <td>0.347826</td>\n",
       "      <td>0.915254</td>\n",
       "      <td>0.333333</td>\n",
       "      <td>1.000000</td>\n",
       "      <td>0.391304</td>\n",
       "      <td>0.000000</td>\n",
       "      <td>0.333333</td>\n",
       "      <td>0.375874</td>\n",
       "      <td>0.243243</td>\n",
       "      <td>0.647727</td>\n",
       "      <td>0.042614</td>\n",
       "    </tr>\n",
       "  </tbody>\n",
       "</table>\n",
       "</div>"
      ],
      "text/plain": [
       "   Distance     PLatd  Haversine    Pmonth      Pday     Phour      Pmin  \\\n",
       "0  0.123735  0.690362   0.137613  0.909091  0.633333  0.782609  0.135593   \n",
       "1  0.270630  0.072524   0.248401  0.181818  0.500000  0.043478  0.322034   \n",
       "2  0.041725  0.536762   0.040074  0.727273  0.933333  0.565217  0.830508   \n",
       "3  0.072366  0.312979   0.069557  0.818182  0.400000  1.000000  0.372881   \n",
       "4  0.042026  0.353218   0.024294  0.818182  1.000000  0.347826  0.915254   \n",
       "\n",
       "     PDweek      Dday     Dhour      Dmin    DDweek      Temp      Wind  \\\n",
       "0  0.166667  0.633333  0.782609  0.440678  0.166667  0.470280  0.270270   \n",
       "1  0.666667  0.500000  0.086957  0.186441  0.666667  0.437063  0.283784   \n",
       "2  0.833333  0.933333  0.608696  0.016949  0.833333  0.746503  0.189189   \n",
       "3  0.833333  0.400000  1.000000  0.559322  0.833333  0.503497  0.040541   \n",
       "4  0.333333  1.000000  0.391304  0.000000  0.333333  0.375874  0.243243   \n",
       "\n",
       "      Humid     Solar  \n",
       "0  0.238636  0.000000  \n",
       "1  0.829545  0.000000  \n",
       "2  0.340909  0.781250  \n",
       "3  0.590909  0.000000  \n",
       "4  0.647727  0.042614  "
      ]
     },
     "execution_count": 24,
     "metadata": {},
     "output_type": "execute_result"
    }
   ],
   "source": [
    "X_train.head()"
   ]
  },
  {
   "cell_type": "code",
   "execution_count": 25,
   "metadata": {},
   "outputs": [
    {
     "data": {
      "text/plain": [
       "Lasso(alpha=0.001, random_state=42)"
      ]
     },
     "execution_count": 25,
     "metadata": {},
     "output_type": "execute_result"
    }
   ],
   "source": [
    "# set up the model\n",
    "# remember to set the random_state / seed\n",
    "\n",
    "lin_model = Lasso(alpha=0.001, random_state=42)\n",
    "\n",
    "# train the model\n",
    "\n",
    "lin_model.fit(X_train, y_train)"
   ]
  },
  {
   "cell_type": "code",
   "execution_count": 27,
   "metadata": {},
   "outputs": [
    {
     "name": "stdout",
     "output_type": "stream",
     "text": [
      "train mse: 4294\n",
      "train rmse: 65\n",
      "train r2: -5.842912883497875\n",
      "\n",
      "test mse: 3860\n",
      "test rmse: 62\n",
      "test r2: -5.1538466947488\n",
      "\n",
      "Average Duration:  15\n"
     ]
    }
   ],
   "source": [
    "# evaluate the model:\n",
    "# ====================\n",
    "\n",
    "# remember that we log transformed the output (Duration)\n",
    "# in our feature engineering notebook (step 2).\n",
    "\n",
    "# In order to get the true performance of the Lasso\n",
    "# we need to transform both the target and the predictions\n",
    "# back to the original Duration values.\n",
    "\n",
    "# We will evaluate performance using the mean squared error and\n",
    "# the root of the mean squared error and r2\n",
    "\n",
    "# make predictions for train set\n",
    "pred = lin_model.predict(X_train)\n",
    "\n",
    "# determine mse, rmse and r2\n",
    "print('train mse: {}'.format(int(\n",
    "    mean_squared_error(np.exp(y_train), np.exp(pred)))))\n",
    "print('train rmse: {}'.format(int(\n",
    "    mean_squared_error(np.exp(y_train), np.exp(pred), squared=False))))\n",
    "print('train r2: {}'.format(\n",
    "    r2_score(np.exp(y_train), np.exp(pred))))\n",
    "print()\n",
    "\n",
    "# make predictions for test set\n",
    "pred = lin_model.predict(X_test)\n",
    "\n",
    "# determine mse, rmse and r2\n",
    "print('test mse: {}'.format(int(\n",
    "    mean_squared_error(np.exp(y_test), np.exp(pred)))))\n",
    "print('test rmse: {}'.format(int(\n",
    "    mean_squared_error(np.exp(y_test), np.exp(pred), squared=False))))\n",
    "print('test r2: {}'.format(\n",
    "    r2_score(np.exp(y_test), np.exp(pred))))\n",
    "print()\n",
    "\n",
    "print('Average Duration: ', int(np.exp(y_train).median()))"
   ]
  },
  {
   "cell_type": "code",
   "execution_count": 28,
   "metadata": {},
   "outputs": [
    {
     "data": {
      "text/plain": [
       "Text(0.5, 1.0, 'Evaluation of Lasso Predictions')"
      ]
     },
     "execution_count": 28,
     "metadata": {},
     "output_type": "execute_result"
    },
    {
     "data": {
      "image/png": "[encoded data removed]",
      "text/plain": [
       "<Figure size 432x288 with 1 Axes>"
      ]
     },
     "metadata": {
      "needs_background": "light"
     },
     "output_type": "display_data"
    }
   ],
   "source": [
    "# let's evaluate our predictions respect to the real sale price\n",
    "plt.scatter(y_test, lin_model.predict(X_test))\n",
    "plt.xlabel('True Duration')\n",
    "plt.ylabel('Predicted Duration')\n",
    "plt.title('Evaluation of Lasso Predictions')"
   ]
  },
  {
   "cell_type": "code",
   "execution_count": 30,
   "metadata": {},
   "outputs": [
    {
     "data": {
      "text/html": [
       "<div>\n",
       "<style scoped>\n",
       "    .dataframe tbody tr th:only-of-type {\n",
       "        vertical-align: middle;\n",
       "    }\n",
       "\n",
       "    .dataframe tbody tr th {\n",
       "        vertical-align: top;\n",
       "    }\n",
       "\n",
       "    .dataframe thead th {\n",
       "        text-align: right;\n",
       "    }\n",
       "</style>\n",
       "<table border=\"1\" class=\"dataframe\">\n",
       "  <thead>\n",
       "    <tr style=\"text-align: right;\">\n",
       "      <th></th>\n",
       "      <th>Duration</th>\n",
       "    </tr>\n",
       "  </thead>\n",
       "  <tbody>\n",
       "    <tr>\n",
       "      <th>0</th>\n",
       "      <td>2.397895</td>\n",
       "    </tr>\n",
       "    <tr>\n",
       "      <th>1</th>\n",
       "      <td>3.044522</td>\n",
       "    </tr>\n",
       "    <tr>\n",
       "      <th>2</th>\n",
       "      <td>4.043051</td>\n",
       "    </tr>\n",
       "    <tr>\n",
       "      <th>3</th>\n",
       "      <td>2.639057</td>\n",
       "    </tr>\n",
       "    <tr>\n",
       "      <th>4</th>\n",
       "      <td>3.850148</td>\n",
       "    </tr>\n",
       "    <tr>\n",
       "      <th>...</th>\n",
       "      <td>...</td>\n",
       "    </tr>\n",
       "    <tr>\n",
       "      <th>96007</th>\n",
       "      <td>3.828641</td>\n",
       "    </tr>\n",
       "    <tr>\n",
       "      <th>96008</th>\n",
       "      <td>2.708050</td>\n",
       "    </tr>\n",
       "    <tr>\n",
       "      <th>96009</th>\n",
       "      <td>1.791759</td>\n",
       "    </tr>\n",
       "    <tr>\n",
       "      <th>96010</th>\n",
       "      <td>0.693147</td>\n",
       "    </tr>\n",
       "    <tr>\n",
       "      <th>96011</th>\n",
       "      <td>1.791759</td>\n",
       "    </tr>\n",
       "  </tbody>\n",
       "</table>\n",
       "<p>96012 rows × 1 columns</p>\n",
       "</div>"
      ],
      "text/plain": [
       "       Duration\n",
       "0      2.397895\n",
       "1      3.044522\n",
       "2      4.043051\n",
       "3      2.639057\n",
       "4      3.850148\n",
       "...         ...\n",
       "96007  3.828641\n",
       "96008  2.708050\n",
       "96009  1.791759\n",
       "96010  0.693147\n",
       "96011  1.791759\n",
       "\n",
       "[96012 rows x 1 columns]"
      ]
     },
     "execution_count": 30,
     "metadata": {},
     "output_type": "execute_result"
    }
   ],
   "source": [
    "y_test.reset_index(drop=True)"
   ]
  },
  {
   "cell_type": "code",
   "execution_count": 31,
   "metadata": {},
   "outputs": [
    {
     "data": {
      "text/plain": [
       "0        2.475802\n",
       "1        2.942049\n",
       "2        4.625551\n",
       "3        2.635325\n",
       "4        2.641199\n",
       "           ...   \n",
       "96007    2.822321\n",
       "96008    2.804273\n",
       "96009    2.370742\n",
       "96010    2.162318\n",
       "96011    2.605323\n",
       "Length: 96012, dtype: float64"
      ]
     },
     "execution_count": 31,
     "metadata": {},
     "output_type": "execute_result"
    }
   ],
   "source": [
    "y_test.reset_index(drop=True, inplace=True)\n",
    "\n",
    "preds = pd.Series(lin_model.predict(X_test))\n",
    "\n",
    "preds"
   ]
  },
  {
   "cell_type": "code",
   "execution_count": 32,
   "metadata": {},
   "outputs": [
    {
     "data": {
      "image/png": "[encoded data removed]",
      "text/plain": [
       "<Figure size 432x288 with 1 Axes>"
      ]
     },
     "metadata": {
      "needs_background": "light"
     },
     "output_type": "display_data"
    }
   ],
   "source": [
    "# let's evaluate the distribution of the errors: \n",
    "# they should be fairly normally distributed\n",
    "\n",
    "errors = y_test['Duration'] - preds\n",
    "errors.hist(bins=30)\n",
    "plt.show()"
   ]
  },
  {
   "cell_type": "code",
   "execution_count": 196,
   "metadata": {},
   "outputs": [
    {
     "data": {
      "text/plain": [
       "(16,)"
      ]
     },
     "execution_count": 196,
     "metadata": {},
     "output_type": "execute_result"
    }
   ],
   "source": [
    "importance.T.shape"
   ]
  },
  {
   "cell_type": "code",
   "execution_count": 239,
   "metadata": {},
   "outputs": [],
   "source": [
    "importance = pd.Series(np.abs(lin_model.coef_.ravel()))\n"
   ]
  },
  {
   "cell_type": "code",
   "execution_count": 240,
   "metadata": {},
   "outputs": [
    {
     "data": {
      "text/plain": [
       "Distance     5.410861\n",
       "PLatd        0.033097\n",
       "Haversine    0.416199\n",
       "Pmonth       0.069298\n",
       "Pday         0.001289\n",
       "dtype: float64"
      ]
     },
     "execution_count": 240,
     "metadata": {},
     "output_type": "execute_result"
    }
   ],
   "source": [
    "importance.set_axis([i for i in features],axis=0,inplace=True)\n",
    "importance.head()"
   ]
  },
  {
   "cell_type": "code",
   "execution_count": 241,
   "metadata": {},
   "outputs": [
    {
     "data": {
      "text/plain": [
       "Text(0.5, 1.0, 'Feature Importance')"
      ]
     },
     "execution_count": 241,
     "metadata": {},
     "output_type": "execute_result"
    },
    {
     "data": {
      "image/png": "[encoded data removed]",
      "text/plain": [
       "<Figure size 1296x432 with 1 Axes>"
      ]
     },
     "metadata": {
      "needs_background": "light"
     },
     "output_type": "display_data"
    }
   ],
   "source": [
    "# Finally, just for fun, let's look at the feature importance\n",
    "\n",
    "#importance.index = features\n",
    "importance.sort_values(inplace=True, ascending=False)\n",
    "importance.plot.bar(figsize=(18,6))\n",
    "plt.ylabel('Lasso Coefficients')\n",
    "plt.title('Feature Importance')\n"
   ]
  },
  {
   "cell_type": "markdown",
   "metadata": {},
   "source": [
    "# Ensemble Models\n",
    "\n",
    "## Random Forest"
   ]
  },
  {
   "cell_type": "code",
   "execution_count": 246,
   "metadata": {},
   "outputs": [],
   "source": [
    "from sklearn.ensemble import RandomForestRegressor\n",
    "from sklearn.model_selection import GridSearchCV\n"
   ]
  },
  {
   "cell_type": "code",
   "execution_count": null,
   "metadata": {},
   "outputs": [
    {
     "name": "stdout",
     "output_type": "stream",
     "text": [
      "Fitting 3 folds for each of 16 candidates, totalling 48 fits\n"
     ]
    },
    {
     "name": "stderr",
     "output_type": "stream",
     "text": [
      "[Parallel(n_jobs=-1)]: Using backend LokyBackend with 4 concurrent workers.\n"
     ]
    }
   ],
   "source": [
    "rf=RandomForestRegressor()\n",
    "params={'max_depth': [1, 5, 10, 50], 'min_samples_split':[5, 10, 100, 500]}\n",
    "\n",
    "cross_val=GridSearchCV(estimator=rf, param_grid=params, cv=3,verbose=2,n_jobs=-1)\n",
    "\n",
    "cross_val.fit(X_train,y_train)\n",
    "\n",
    "print('='*100)\n",
    "print('The Best Parameters are : ',cross_val.best_params_)\n",
    "print('='*100)"
   ]
  },
  {
   "cell_type": "code",
   "execution_count": null,
   "metadata": {},
   "outputs": [],
   "source": [
    "rf_best = cross_val.best_estimator_\n",
    "rf_best.fit(X_train, y_train)\n",
    "\n",
    "y_train_pred = rf_best.predict(X_train)\n",
    "y_cv_pred = rf_best.predict(X_cv)\n",
    "y_test_pred = rf_best.predict(X_test)\n",
    "\n",
    "print(\"*\"*50)\n",
    "print(\"Train Root Mean squared error: %.2f\" % sqrt(mean_squared_error(y_train, y_train_pred)))\n",
    "print(\"CV Root Mean squared error: %.2f\" % sqrt(mean_squared_error(y_cv, y_cv_pred)))\n",
    "print(\"Test Root Mean squared error: %.2f\" % sqrt(mean_squared_error(y_test, y_test_pred)))\n",
    "print(\"*\"*50)\n",
    "print(\"Train Mean Absolute error: \",mean_absolute_error(y_train,y_train_pred))\n",
    "print(\"CV Mean Absolute error: \",mean_absolute_error(y_cv,y_cv_pred))\n",
    "print(\"Test Mean Absolute error: \",mean_absolute_error(y_test,y_test_pred))\n",
    "print(\"*\"*50) \n",
    "print(\"Train Median Absolute error: \",median_absolute_error(y_train,y_train_pred))\n",
    "print(\"CV Median Absolute error: \",median_absolute_error(y_cv,y_cv_pred))\n",
    "print(\"Test Median Absolute error: \",median_absolute_error(y_test,y_test_pred))\n",
    "print(\"*\"*50)\n",
    "print(\"Train r2_score error: \",r2_score(y_train,y_train_pred))\n",
    "print(\"CV r2_score error: \",r2_score(y_cv,y_cv_pred))\n",
    "print(\"Test r2_score error: \",r2_score(y_test,y_test_pred))\n",
    "print(\"*\"*50)\n",
    "\n",
    "d = pd.DataFrame({'Actual_Duration': y_test, 'Predicted_Duration': y_test_pred})\n",
    "d.head(5)\n"
   ]
  },
  {
   "cell_type": "code",
   "execution_count": null,
   "metadata": {},
   "outputs": [],
   "source": [
    "plt.figure(figsize=(10,9))\n",
    "feature_imp = pd.Series(rf_best.feature_importances_, index=X.columns).sort_values(ascending=False)\n",
    "\n",
    "# Creating a bar plot\n",
    "sns.barplot(x=feature_imp, y=feature_imp.index)\n",
    "\n",
    "# Add labels to your graph\n",
    "plt.xlabel('Feature Importance Score')\n",
    "plt.ylabel('Features')\n",
    "plt.title(\"Visualizing Important Features\", size=20)\n",
    "plt.legend()\n",
    "plt.show()\n"
   ]
  },
  {
   "cell_type": "code",
   "execution_count": 242,
   "metadata": {},
   "outputs": [
    {
     "data": {
      "text/plain": [
       "['linear_regression.joblib']"
      ]
     },
     "execution_count": 242,
     "metadata": {},
     "output_type": "execute_result"
    }
   ],
   "source": [
    "# we are happy to our model, so we save it to be able\n",
    "# to score new data\n",
    "\n",
    "joblib.dump(lin_model, 'linear_regression.joblib') "
   ]
  },
  {
   "cell_type": "code",
   "execution_count": null,
   "metadata": {},
   "outputs": [],
   "source": []
  }
 ],
 "metadata": {
  "kernelspec": {
   "display_name": "Python 3",
   "language": "python",
   "name": "python3"
  },
  "language_info": {
   "codemirror_mode": {
    "name": "ipython",
    "version": 3
   },
   "file_extension": ".py",
   "mimetype": "text/x-python",
   "name": "python",
   "nbconvert_exporter": "python",
   "pygments_lexer": "ipython3",
   "version": "3.7.5"
  }
 },
 "nbformat": 4,
 "nbformat_minor": 4
}
