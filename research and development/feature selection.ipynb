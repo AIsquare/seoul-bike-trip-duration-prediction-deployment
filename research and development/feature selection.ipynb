{
 "cells": [
  {
   "cell_type": "markdown",
   "metadata": {},
   "source": [
    "# Machine Learning Pipeline - feature selection"
   ]
  },
  {
   "cell_type": "markdown",
   "metadata": {},
   "source": [
    "# Reproducibility: Setting the seed\n",
    "With the aim to ensure reproducibility between runs of the same notebook, but also between the research and production environment, for each step that includes some element of randomness, it is extremely important that we set the seed."
   ]
  },
  {
   "cell_type": "code",
   "execution_count": 2,
   "metadata": {},
   "outputs": [],
   "source": [
    "# to handle datasets\n",
    "import pandas as pd\n",
    "import numpy as np\n",
    "\n",
    "# for plotting\n",
    "import matplotlib.pyplot as plt\n",
    "\n",
    "# to build the models\n",
    "from sklearn.linear_model import Lasso\n",
    "from sklearn.feature_selection import SelectFromModel\n",
    "\n",
    "# to visualise al the columns in the dataframe\n",
    "pd.pandas.set_option('display.max_columns', None)"
   ]
  },
  {
   "cell_type": "code",
   "execution_count": 3,
   "metadata": {},
   "outputs": [
    {
     "data": {
      "text/html": [
       "<div>\n",
       "<style scoped>\n",
       "    .dataframe tbody tr th:only-of-type {\n",
       "        vertical-align: middle;\n",
       "    }\n",
       "\n",
       "    .dataframe tbody tr th {\n",
       "        vertical-align: top;\n",
       "    }\n",
       "\n",
       "    .dataframe thead th {\n",
       "        text-align: right;\n",
       "    }\n",
       "</style>\n",
       "<table border=\"1\" class=\"dataframe\">\n",
       "  <thead>\n",
       "    <tr style=\"text-align: right;\">\n",
       "      <th></th>\n",
       "      <th>Distance</th>\n",
       "      <th>PLong</th>\n",
       "      <th>PLatd</th>\n",
       "      <th>DLong</th>\n",
       "      <th>DLatd</th>\n",
       "      <th>Haversine</th>\n",
       "      <th>Pmonth</th>\n",
       "      <th>Pday</th>\n",
       "      <th>Phour</th>\n",
       "      <th>Pmin</th>\n",
       "      <th>PDweek</th>\n",
       "      <th>Dmonth</th>\n",
       "      <th>Dday</th>\n",
       "      <th>Dhour</th>\n",
       "      <th>Dmin</th>\n",
       "      <th>DDweek</th>\n",
       "      <th>Temp</th>\n",
       "      <th>Precip</th>\n",
       "      <th>Wind</th>\n",
       "      <th>Humid</th>\n",
       "      <th>Solar</th>\n",
       "      <th>Snow</th>\n",
       "      <th>GroundTemp</th>\n",
       "      <th>Dust</th>\n",
       "    </tr>\n",
       "  </thead>\n",
       "  <tbody>\n",
       "    <tr>\n",
       "      <th>0</th>\n",
       "      <td>0.123735</td>\n",
       "      <td>0.439752</td>\n",
       "      <td>0.690362</td>\n",
       "      <td>0.564855</td>\n",
       "      <td>0.743494</td>\n",
       "      <td>0.137613</td>\n",
       "      <td>0.909091</td>\n",
       "      <td>0.633333</td>\n",
       "      <td>0.782609</td>\n",
       "      <td>0.135593</td>\n",
       "      <td>0.166667</td>\n",
       "      <td>0.909091</td>\n",
       "      <td>0.633333</td>\n",
       "      <td>0.782609</td>\n",
       "      <td>0.440678</td>\n",
       "      <td>0.166667</td>\n",
       "      <td>0.470280</td>\n",
       "      <td>0.0</td>\n",
       "      <td>0.270270</td>\n",
       "      <td>0.238636</td>\n",
       "      <td>0.000000</td>\n",
       "      <td>0.0</td>\n",
       "      <td>0.257256</td>\n",
       "      <td>0.151316</td>\n",
       "    </tr>\n",
       "    <tr>\n",
       "      <th>1</th>\n",
       "      <td>0.270630</td>\n",
       "      <td>0.536782</td>\n",
       "      <td>0.072524</td>\n",
       "      <td>0.390582</td>\n",
       "      <td>0.245192</td>\n",
       "      <td>0.248401</td>\n",
       "      <td>0.181818</td>\n",
       "      <td>0.500000</td>\n",
       "      <td>0.043478</td>\n",
       "      <td>0.322034</td>\n",
       "      <td>0.666667</td>\n",
       "      <td>0.181818</td>\n",
       "      <td>0.500000</td>\n",
       "      <td>0.086957</td>\n",
       "      <td>0.186441</td>\n",
       "      <td>0.666667</td>\n",
       "      <td>0.437063</td>\n",
       "      <td>0.0</td>\n",
       "      <td>0.283784</td>\n",
       "      <td>0.829545</td>\n",
       "      <td>0.000000</td>\n",
       "      <td>0.0</td>\n",
       "      <td>0.282322</td>\n",
       "      <td>0.046053</td>\n",
       "    </tr>\n",
       "    <tr>\n",
       "      <th>2</th>\n",
       "      <td>0.041725</td>\n",
       "      <td>0.513858</td>\n",
       "      <td>0.536762</td>\n",
       "      <td>0.509323</td>\n",
       "      <td>0.570664</td>\n",
       "      <td>0.040074</td>\n",
       "      <td>0.727273</td>\n",
       "      <td>0.933333</td>\n",
       "      <td>0.565217</td>\n",
       "      <td>0.830508</td>\n",
       "      <td>0.833333</td>\n",
       "      <td>0.727273</td>\n",
       "      <td>0.933333</td>\n",
       "      <td>0.608696</td>\n",
       "      <td>0.016949</td>\n",
       "      <td>0.833333</td>\n",
       "      <td>0.746503</td>\n",
       "      <td>0.0</td>\n",
       "      <td>0.189189</td>\n",
       "      <td>0.340909</td>\n",
       "      <td>0.781250</td>\n",
       "      <td>0.0</td>\n",
       "      <td>0.693931</td>\n",
       "      <td>0.046053</td>\n",
       "    </tr>\n",
       "    <tr>\n",
       "      <th>3</th>\n",
       "      <td>0.072366</td>\n",
       "      <td>0.544863</td>\n",
       "      <td>0.312979</td>\n",
       "      <td>0.476247</td>\n",
       "      <td>0.328050</td>\n",
       "      <td>0.069557</td>\n",
       "      <td>0.818182</td>\n",
       "      <td>0.400000</td>\n",
       "      <td>1.000000</td>\n",
       "      <td>0.372881</td>\n",
       "      <td>0.833333</td>\n",
       "      <td>0.818182</td>\n",
       "      <td>0.400000</td>\n",
       "      <td>1.000000</td>\n",
       "      <td>0.559322</td>\n",
       "      <td>0.833333</td>\n",
       "      <td>0.503497</td>\n",
       "      <td>0.0</td>\n",
       "      <td>0.040541</td>\n",
       "      <td>0.590909</td>\n",
       "      <td>0.000000</td>\n",
       "      <td>0.0</td>\n",
       "      <td>0.283641</td>\n",
       "      <td>0.059211</td>\n",
       "    </tr>\n",
       "    <tr>\n",
       "      <th>4</th>\n",
       "      <td>0.042026</td>\n",
       "      <td>0.138733</td>\n",
       "      <td>0.353218</td>\n",
       "      <td>0.163031</td>\n",
       "      <td>0.349159</td>\n",
       "      <td>0.024294</td>\n",
       "      <td>0.818182</td>\n",
       "      <td>1.000000</td>\n",
       "      <td>0.347826</td>\n",
       "      <td>0.915254</td>\n",
       "      <td>0.333333</td>\n",
       "      <td>0.818182</td>\n",
       "      <td>1.000000</td>\n",
       "      <td>0.391304</td>\n",
       "      <td>0.000000</td>\n",
       "      <td>0.333333</td>\n",
       "      <td>0.375874</td>\n",
       "      <td>0.0</td>\n",
       "      <td>0.243243</td>\n",
       "      <td>0.647727</td>\n",
       "      <td>0.042614</td>\n",
       "      <td>0.0</td>\n",
       "      <td>0.208443</td>\n",
       "      <td>0.049342</td>\n",
       "    </tr>\n",
       "  </tbody>\n",
       "</table>\n",
       "</div>"
      ],
      "text/plain": [
       "   Distance     PLong     PLatd     DLong     DLatd  Haversine    Pmonth  \\\n",
       "0  0.123735  0.439752  0.690362  0.564855  0.743494   0.137613  0.909091   \n",
       "1  0.270630  0.536782  0.072524  0.390582  0.245192   0.248401  0.181818   \n",
       "2  0.041725  0.513858  0.536762  0.509323  0.570664   0.040074  0.727273   \n",
       "3  0.072366  0.544863  0.312979  0.476247  0.328050   0.069557  0.818182   \n",
       "4  0.042026  0.138733  0.353218  0.163031  0.349159   0.024294  0.818182   \n",
       "\n",
       "       Pday     Phour      Pmin    PDweek    Dmonth      Dday     Dhour  \\\n",
       "0  0.633333  0.782609  0.135593  0.166667  0.909091  0.633333  0.782609   \n",
       "1  0.500000  0.043478  0.322034  0.666667  0.181818  0.500000  0.086957   \n",
       "2  0.933333  0.565217  0.830508  0.833333  0.727273  0.933333  0.608696   \n",
       "3  0.400000  1.000000  0.372881  0.833333  0.818182  0.400000  1.000000   \n",
       "4  1.000000  0.347826  0.915254  0.333333  0.818182  1.000000  0.391304   \n",
       "\n",
       "       Dmin    DDweek      Temp  Precip      Wind     Humid     Solar  Snow  \\\n",
       "0  0.440678  0.166667  0.470280     0.0  0.270270  0.238636  0.000000   0.0   \n",
       "1  0.186441  0.666667  0.437063     0.0  0.283784  0.829545  0.000000   0.0   \n",
       "2  0.016949  0.833333  0.746503     0.0  0.189189  0.340909  0.781250   0.0   \n",
       "3  0.559322  0.833333  0.503497     0.0  0.040541  0.590909  0.000000   0.0   \n",
       "4  0.000000  0.333333  0.375874     0.0  0.243243  0.647727  0.042614   0.0   \n",
       "\n",
       "   GroundTemp      Dust  \n",
       "0    0.257256  0.151316  \n",
       "1    0.282322  0.046053  \n",
       "2    0.693931  0.046053  \n",
       "3    0.283641  0.059211  \n",
       "4    0.208443  0.049342  "
      ]
     },
     "execution_count": 3,
     "metadata": {},
     "output_type": "execute_result"
    }
   ],
   "source": [
    "X_train = pd.read_csv('xtrain.csv')\n",
    "X_test = pd.read_csv('xtest.csv')\n",
    "\n",
    "X_train.head()"
   ]
  },
  {
   "cell_type": "code",
   "execution_count": 6,
   "metadata": {},
   "outputs": [
    {
     "data": {
      "text/html": [
       "<div>\n",
       "<style scoped>\n",
       "    .dataframe tbody tr th:only-of-type {\n",
       "        vertical-align: middle;\n",
       "    }\n",
       "\n",
       "    .dataframe tbody tr th {\n",
       "        vertical-align: top;\n",
       "    }\n",
       "\n",
       "    .dataframe thead th {\n",
       "        text-align: right;\n",
       "    }\n",
       "</style>\n",
       "<table border=\"1\" class=\"dataframe\">\n",
       "  <thead>\n",
       "    <tr style=\"text-align: right;\">\n",
       "      <th></th>\n",
       "      <th>Duration</th>\n",
       "    </tr>\n",
       "  </thead>\n",
       "  <tbody>\n",
       "    <tr>\n",
       "      <th>0</th>\n",
       "      <td>2.833213</td>\n",
       "    </tr>\n",
       "    <tr>\n",
       "      <th>1</th>\n",
       "      <td>3.931826</td>\n",
       "    </tr>\n",
       "    <tr>\n",
       "      <th>2</th>\n",
       "      <td>2.484907</td>\n",
       "    </tr>\n",
       "    <tr>\n",
       "      <th>3</th>\n",
       "      <td>2.302585</td>\n",
       "    </tr>\n",
       "    <tr>\n",
       "      <th>4</th>\n",
       "      <td>1.609438</td>\n",
       "    </tr>\n",
       "  </tbody>\n",
       "</table>\n",
       "</div>"
      ],
      "text/plain": [
       "   Duration\n",
       "0  2.833213\n",
       "1  3.931826\n",
       "2  2.484907\n",
       "3  2.302585\n",
       "4  1.609438"
      ]
     },
     "execution_count": 6,
     "metadata": {},
     "output_type": "execute_result"
    }
   ],
   "source": [
    "y_train = pd.read_csv('ytrain.csv')\n",
    "y_test = pd.read_csv('ytest.csv')\n",
    "y_train.head()"
   ]
  },
  {
   "cell_type": "code",
   "execution_count": 7,
   "metadata": {},
   "outputs": [
    {
     "data": {
      "text/plain": [
       "((96012, 24), (96012, 1))"
      ]
     },
     "execution_count": 7,
     "metadata": {},
     "output_type": "execute_result"
    }
   ],
   "source": [
    "X_test.shape, y_test.shape"
   ]
  },
  {
   "cell_type": "code",
   "execution_count": 8,
   "metadata": {},
   "outputs": [
    {
     "data": {
      "text/plain": [
       "SelectFromModel(estimator=Lasso(alpha=0.001, random_state=42))"
      ]
     },
     "execution_count": 8,
     "metadata": {},
     "output_type": "execute_result"
    }
   ],
   "source": [
    "# remember to set the seed, the random state in this function\n",
    "sel_ = SelectFromModel(Lasso(alpha=0.001, random_state=42))\n",
    "\n",
    "# train Lasso model and select features\n",
    "sel_.fit(X_train, y_train)"
   ]
  },
  {
   "cell_type": "code",
   "execution_count": 9,
   "metadata": {},
   "outputs": [
    {
     "data": {
      "text/plain": [
       "16"
      ]
     },
     "execution_count": 9,
     "metadata": {},
     "output_type": "execute_result"
    }
   ],
   "source": [
    "sel_.get_support().sum()"
   ]
  },
  {
   "cell_type": "code",
   "execution_count": 10,
   "metadata": {},
   "outputs": [],
   "source": [
    "#feautures that were selected"
   ]
  },
  {
   "cell_type": "code",
   "execution_count": 11,
   "metadata": {},
   "outputs": [
    {
     "data": {
      "text/plain": [
       "array([ True, False,  True, False, False,  True,  True,  True,  True,\n",
       "        True,  True, False,  True,  True,  True,  True,  True, False,\n",
       "        True,  True,  True, False, False, False])"
      ]
     },
     "execution_count": 11,
     "metadata": {},
     "output_type": "execute_result"
    }
   ],
   "source": [
    "sel_.get_support()"
   ]
  },
  {
   "cell_type": "code",
   "execution_count": 12,
   "metadata": {},
   "outputs": [
    {
     "name": "stdout",
     "output_type": "stream",
     "text": [
      "total features: 24\n",
      "selected features: 16\n",
      "features with coefficients shrank to zero: 8\n"
     ]
    }
   ],
   "source": [
    "# this is how we can make a list of the selected features\n",
    "selected_feats = X_train.columns[(sel_.get_support())]\n",
    "\n",
    "# let's print some stats\n",
    "print('total features: {}'.format((X_train.shape[1])))\n",
    "print('selected features: {}'.format(len(selected_feats)))\n",
    "print('features with coefficients shrank to zero: {}'.format(\n",
    "    np.sum(sel_.estimator_.coef_ == 0)))"
   ]
  },
  {
   "cell_type": "code",
   "execution_count": 13,
   "metadata": {},
   "outputs": [
    {
     "data": {
      "text/plain": [
       "Index(['Distance', 'PLatd', 'Haversine', 'Pmonth', 'Pday', 'Phour', 'Pmin',\n",
       "       'PDweek', 'Dday', 'Dhour', 'Dmin', 'DDweek', 'Temp', 'Wind', 'Humid',\n",
       "       'Solar'],\n",
       "      dtype='object')"
      ]
     },
     "execution_count": 13,
     "metadata": {},
     "output_type": "execute_result"
    }
   ],
   "source": [
    "selected_feats"
   ]
  },
  {
   "cell_type": "code",
   "execution_count": 14,
   "metadata": {},
   "outputs": [
    {
     "name": "stderr",
     "output_type": "stream",
     "text": [
      "C:\\Users\\pc\\Anaconda3\\lib\\site-packages\\ipykernel_launcher.py:1: FutureWarning: The signature of `Series.to_csv` was aligned to that of `DataFrame.to_csv`, and argument 'header' will change its default value from False to True: please pass an explicit value to suppress this warning.\n",
      "  \"\"\"Entry point for launching an IPython kernel.\n"
     ]
    }
   ],
   "source": [
    "pd.Series(selected_feats).to_csv('selected_features.csv', index=False)"
   ]
  },
  {
   "cell_type": "code",
   "execution_count": null,
   "metadata": {},
   "outputs": [],
   "source": []
  }
 ],
 "metadata": {
  "kernelspec": {
   "display_name": "Python 3",
   "language": "python",
   "name": "python3"
  },
  "language_info": {
   "codemirror_mode": {
    "name": "ipython",
    "version": 3
   },
   "file_extension": ".py",
   "mimetype": "text/x-python",
   "name": "python",
   "nbconvert_exporter": "python",
   "pygments_lexer": "ipython3",
   "version": "3.7.5"
  }
 },
 "nbformat": 4,
 "nbformat_minor": 4
}
